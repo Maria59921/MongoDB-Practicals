{
  "cells": [
    {
      "cell_type": "markdown",
      "metadata": {
        "id": "aNbhIphe0NSv"
      },
      "source": [
        "## Mango Db with Python- Part -1"
      ]
    },
    {
      "cell_type": "code",
      "execution_count": null,
      "metadata": {
        "id": "nKll2mmC0NSx"
      },
      "outputs": [],
      "source": [
        "import pymongo\n",
        "\n",
        "client=pymongo.MongoClient('mongodb://127.0.0.1:27017/')\n",
        "\n",
        "mydb=client['Employee']\n",
        "empinfo=mydb.employeeinformation"
      ]
    },
    {
      "cell_type": "code",
      "execution_count": null,
      "metadata": {
        "id": "LzC_RmZy0NSy",
        "outputId": "97d9c868-83b8-4281-b146-4b77a9642570"
      },
      "outputs": [
        {
          "data": {
            "text/plain": [
              "<pymongo.results.InsertOneResult at 0x2af8d76bfc8>"
            ]
          },
          "execution_count": 5,
          "metadata": {},
          "output_type": "execute_result"
        }
      ],
      "source": [
        "record={\n",
        "        'firstname':'Krish',\n",
        "        'lastname':'Naik',\n",
        "        'department':'Analytics',\n",
        "        'qualification':'BE',\n",
        "        'age':29\n",
        "        }\n",
        "empinfo.insert_one(record)"
      ]
    },
    {
      "cell_type": "code",
      "execution_count": null,
      "metadata": {
        "id": "QC6MMdX-0NS0"
      },
      "outputs": [],
      "source": [
        "records=[{\n",
        "        'firstname':'John',\n",
        "        'lastname':'Doe',\n",
        "        'department':'Analytics',\n",
        "        'qualification':'statistics',\n",
        "        'age':35\n",
        "\n",
        "        },\n",
        "         {\n",
        "        'firstname':'John ',\n",
        "        'lastname':'Smith',\n",
        "        'department':'Analytics',\n",
        "        'qualification':'masters',\n",
        "        'age':30\n",
        "\n",
        "        },\n",
        "        {\n",
        "        'firstname':'Manish',\n",
        "        'lastname':'Sen',\n",
        "        'department':'Analytics',\n",
        "        'qualification':'phd',\n",
        "        'age':34\n",
        "\n",
        "        },\n",
        "        {\n",
        "        'firstname':'Ram',\n",
        "        'lastname':'Singh',\n",
        "        'department':'Analytics',\n",
        "        'qualification':'master',\n",
        "        'age':32\n",
        "\n",
        "        }]"
      ]
    },
    {
      "cell_type": "code",
      "execution_count": null,
      "metadata": {
        "id": "w_EDP9BV0NS0",
        "outputId": "398a5a63-f6fc-4a95-b9f2-5747c1934bf6"
      },
      "outputs": [
        {
          "data": {
            "text/plain": [
              "<pymongo.results.InsertManyResult at 0x2af8dacb188>"
            ]
          },
          "execution_count": 7,
          "metadata": {},
          "output_type": "execute_result"
        }
      ],
      "source": [
        "empinfo.insert_many(records)"
      ]
    },
    {
      "cell_type": "code",
      "execution_count": null,
      "metadata": {
        "id": "HZloJBpA0NS1",
        "outputId": "58b4b6d2-4d91-4df2-c1dc-ecc828aa21ad"
      },
      "outputs": [
        {
          "data": {
            "text/plain": [
              "{'_id': ObjectId('5e59ec2be0e386955e9489ba'),\n",
              " 'firstname': 'Krish',\n",
              " 'lastname': 'Naik',\n",
              " 'department': 'Analytics',\n",
              " 'qualification': 'BE',\n",
              " 'age': 29}"
            ]
          },
          "execution_count": 8,
          "metadata": {},
          "output_type": "execute_result"
        }
      ],
      "source": [
        "## Simple way of querying\n",
        "empinfo.find_one()"
      ]
    },
    {
      "cell_type": "code",
      "execution_count": null,
      "metadata": {
        "id": "KRyMNiaH0NS1",
        "outputId": "d61f1d0a-5852-477c-fa3b-707f060c199c"
      },
      "outputs": [
        {
          "name": "stdout",
          "output_type": "stream",
          "text": [
            "{'_id': ObjectId('5e59ec2be0e386955e9489ba'), 'firstname': 'Krish', 'lastname': 'Naik', 'department': 'Analytics', 'qualification': 'BE', 'age': 29}\n",
            "{'_id': ObjectId('5e59eca7e0e386955e9489bb'), 'firstname': 'John', 'lastname': 'Doe', 'department': 'Analytics', 'qualification': 'statistics', 'age': 35}\n",
            "{'_id': ObjectId('5e59eca7e0e386955e9489bc'), 'firstname': 'John ', 'lastname': 'Smith', 'department': 'Analytics', 'qualification': 'masters', 'age': 30}\n",
            "{'_id': ObjectId('5e59eca7e0e386955e9489bd'), 'firstname': 'Manish', 'lastname': 'Sen', 'department': 'Analytics', 'qualification': 'phd', 'age': 34}\n",
            "{'_id': ObjectId('5e59eca7e0e386955e9489be'), 'firstname': 'Ram', 'lastname': 'Singh', 'department': 'Analytics', 'qualification': 'master', 'age': 32}\n"
          ]
        }
      ],
      "source": [
        "## Select * from employeeinformation\n",
        "for record in empinfo.find({}):\n",
        "    print(record)"
      ]
    },
    {
      "cell_type": "code",
      "execution_count": null,
      "metadata": {
        "id": "P1mFUoia0NS2",
        "outputId": "1ec1b94f-73e4-4bf2-85c3-175e13b349c3"
      },
      "outputs": [
        {
          "name": "stdout",
          "output_type": "stream",
          "text": [
            "{'_id': ObjectId('5e59ec2be0e386955e9489ba'), 'firstname': 'Krish', 'lastname': 'Naik', 'department': 'Analytics', 'qualification': 'BE', 'age': 29}\n"
          ]
        }
      ],
      "source": [
        "## Query the json documents based on equality conditions\n",
        "# Select * from employeeinformation where firstname=krish\n",
        "\n",
        "for record in empinfo.find({'firstname':'Krish'}):\n",
        "    print(record)\n"
      ]
    },
    {
      "cell_type": "code",
      "execution_count": null,
      "metadata": {
        "id": "5gFDltaw0NS2",
        "outputId": "8922e6d4-76db-4f7c-8846-1ca67737a402"
      },
      "outputs": [
        {
          "name": "stdout",
          "output_type": "stream",
          "text": [
            "{'_id': ObjectId('5e59eca7e0e386955e9489bd'), 'firstname': 'Manish', 'lastname': 'Sen', 'department': 'Analytics', 'qualification': 'phd', 'age': 34}\n",
            "{'_id': ObjectId('5e59eca7e0e386955e9489be'), 'firstname': 'Ram', 'lastname': 'Singh', 'department': 'Analytics', 'qualification': 'master', 'age': 32}\n"
          ]
        }
      ],
      "source": [
        "## Query documents using query operators($in,$lt,$gt)\n",
        "for record in empinfo.find({'qualification':{'$in':['phd','master']}}):\n",
        "    print(record)"
      ]
    },
    {
      "cell_type": "code",
      "execution_count": null,
      "metadata": {
        "id": "C2R4rJOb0NS2",
        "outputId": "135c938b-6f91-4ac5-af89-cc52f0b549cc"
      },
      "outputs": [
        {
          "name": "stdout",
          "output_type": "stream",
          "text": [
            "{'_id': ObjectId('5e59eca7e0e386955e9489be'), 'firstname': 'Ram', 'lastname': 'Singh', 'department': 'Analytics', 'qualification': 'master', 'age': 32}\n"
          ]
        }
      ],
      "source": [
        "## And and Query operators\n",
        "for record in empinfo.find({'qualification':'master','age':{'$lt':35}}):\n",
        "    print(record)"
      ]
    },
    {
      "cell_type": "code",
      "execution_count": null,
      "metadata": {
        "id": "r2D7hHVV0NS3",
        "outputId": "999a29f0-111c-41a5-87df-0659adf104dc"
      },
      "outputs": [
        {
          "name": "stdout",
          "output_type": "stream",
          "text": [
            "{'_id': ObjectId('5e59ec2be0e386955e9489ba'), 'firstname': 'Krish', 'lastname': 'Naik', 'department': 'Analytics', 'qualification': 'BE', 'age': 29}\n"
          ]
        }
      ],
      "source": [
        "## OR operators\n",
        "for record in empinfo.find({'$or':[{'firstname':'Krish'},{'qualification':'BE'}]}):\n",
        "    print(record)"
      ]
    },
    {
      "cell_type": "code",
      "execution_count": null,
      "metadata": {
        "id": "Y6vtMig_0NS3"
      },
      "outputs": [],
      "source": [
        "inventory=mydb.inventory"
      ]
    },
    {
      "cell_type": "code",
      "execution_count": null,
      "metadata": {
        "id": "uKUgX23T0NS3"
      },
      "outputs": [],
      "source": [
        "inventory.insert_many( [\n",
        "   { 'item': \"journal\", 'qty': 25, 'size': { 'h': 14, 'w': 21,'uom': \"cm\" }, 'status': \"A\" },\n",
        "   { 'item': \"notebook\", 'qty': 50,'size': { 'h': 8.5, 'w': 11,'uom': \"in\" },'status': \"A\" },\n",
        "   { 'item': \"paper\", 'qty': 100, 'size': { 'h': 8.5, 'w': 11,'uom': \"in\" },'status': \"D\" },\n",
        "   { 'item': \"planner\", 'qty': 75, 'size': { 'h': 22.85,'w': 30,'uom': \"cm\" },'status': \"D\" },\n",
        "   { 'item': \"postcard\", 'qty': 45, 'size': { 'h': 10, 'w': 15.25,'uom': \"cm\" },'status': \"A\" }\n",
        "]);\n",
        ""
      ]
    },
    {
      "cell_type": "code",
      "execution_count": null,
      "metadata": {
        "id": "5pzY0wBT0NS4",
        "outputId": "c69e25db-cc31-4888-80f8-44a18c8adfe7"
      },
      "outputs": [
        {
          "name": "stdout",
          "output_type": "stream",
          "text": [
            "{'_id': ObjectId('5e59f14ee0e386955e9489bf'), 'item': 'journal', 'qty': 25, 'size': {'h': 14, 'w': 21, 'uom': 'cm'}, 'status': 'A'}\n"
          ]
        }
      ],
      "source": [
        "for records in inventory.find({'size': { 'h': 14, 'w': 21,'uom': \"cm\" }}):\n",
        "    print(records)"
      ]
    },
    {
      "cell_type": "markdown",
      "source": [
        "## Mango Db with Python- Part -2"
      ],
      "metadata": {
        "id": "a3U768wG0a0Y"
      }
    },
    {
      "cell_type": "code",
      "execution_count": null,
      "metadata": {
        "id": "-yd0l5Gm0NS4"
      },
      "outputs": [],
      "source": [
        "# Count employees in each department\n",
        "pipeline = [\n",
        "    {\"$group\": {\"_id\": \"$department\", \"total_employees\": {\"$sum\": 1}}}\n",
        "]\n",
        "\n",
        "department_distribution = empinfo.aggregate(pipeline)\n",
        "\n",
        "# Print the results\n",
        "for department in department_distribution:\n",
        "    print(f\"Department: {department['_id']}, Total Employees: {department['total_employees']}\")\n"
      ]
    },
    {
      "cell_type": "code",
      "execution_count": null,
      "metadata": {
        "id": "xQVC4Dmp0NS4"
      },
      "outputs": [],
      "source": [
        "# Calculate average, min, and max age\n",
        "pipeline = [\n",
        "    {\"$group\": {\"_id\": None, \"average_age\": {\"$avg\": \"$age\"}, \"min_age\": {\"$min\": \"$age\"}, \"max_age\": {\"$max\": \"$age\"}}}\n",
        "]\n",
        "\n",
        "age_stats = empinfo.aggregate(pipeline)\n",
        "\n",
        "# Print the results\n",
        "for record in age_stats:\n",
        "    print(f\"Average Age: {record['average_age']:.2f}, Min Age: {record['min_age']}, Max Age: {record['max_age']}\")\n"
      ]
    },
    {
      "cell_type": "code",
      "execution_count": null,
      "metadata": {
        "id": "QWKCyqWS0NS4"
      },
      "outputs": [],
      "source": [
        "import matplotlib.pyplot as plt\n",
        "import seaborn as sns\n",
        "\n",
        "# Get age data for all employees\n",
        "ages = [record['age'] for record in empinfo.find({}, {\"age\": 1, \"_id\": 0})]\n",
        "\n",
        "# Plot a histogram of employee ages\n",
        "sns.histplot(ages, kde=True)\n",
        "plt.title(\"Age Distribution of Employees\")\n",
        "plt.xlabel(\"Age\")\n",
        "plt.ylabel(\"Number of Employees\")\n",
        "plt.show()\n"
      ]
    },
    {
      "cell_type": "code",
      "execution_count": null,
      "metadata": {
        "id": "MBK0MvUl0NS4"
      },
      "outputs": [],
      "source": [
        "# Analyze hiring trends by year\n",
        "pipeline = [\n",
        "    {\"$project\": {\"year_hired\": {\"$year\": \"$hire_date\"}}},  # Extract year from hire_date\n",
        "    {\"$group\": {\"_id\": \"$year_hired\", \"total_hired\": {\"$sum\": 1}}}\n",
        "]\n",
        "\n",
        "hiring_trends = empinfo.aggregate(pipeline)\n",
        "\n",
        "# Print results\n",
        "for record in hiring_trends:\n",
        "    print(f\"Year: {record['_id']}, Employees Hired: {record['total_hired']}\")\n"
      ]
    },
    {
      "cell_type": "code",
      "execution_count": null,
      "metadata": {
        "id": "IdWMf9C40NS5"
      },
      "outputs": [],
      "source": [
        "# Prepare data\n",
        "departments = []\n",
        "employee_count = []\n",
        "\n",
        "pipeline = [\n",
        "    {\"$group\": {\"_id\": \"$department\", \"total_employees\": {\"$sum\": 1}}}\n",
        "]\n",
        "department_distribution = empinfo.aggregate(pipeline)\n",
        "\n",
        "for department in department_distribution:\n",
        "    departments.append(department['_id'])\n",
        "    employee_count.append(department['total_employees'])\n",
        "\n",
        "# Plot bar chart\n",
        "sns.barplot(x=departments, y=employee_count)\n",
        "plt.title(\"Employee Distribution by Department\")\n",
        "plt.xlabel(\"Department\")\n",
        "plt.ylabel(\"Number of Employees\")\n",
        "plt.xticks(rotation=45)\n",
        "plt.show()\n"
      ]
    },
    {
      "cell_type": "code",
      "execution_count": null,
      "metadata": {
        "id": "SXjiS-Q-0NS5"
      },
      "outputs": [],
      "source": [
        "# Prepare data\n",
        "years = []\n",
        "hired_count = []\n",
        "\n",
        "pipeline = [\n",
        "    {\"$project\": {\"year_hired\": {\"$year\": \"$hire_date\"}}},\n",
        "    {\"$group\": {\"_id\": \"$year_hired\", \"total_hired\": {\"$sum\": 1}}},\n",
        "    {\"$sort\": {\"_id\": 1}}\n",
        "]\n",
        "hiring_trends = empinfo.aggregate(pipeline)\n",
        "\n",
        "for record in hiring_trends:\n",
        "    years.append(record['_id'])\n",
        "    hired_count.append(record['total_hired'])\n",
        "\n",
        "# Plot line chart\n",
        "plt.plot(years, hired_count, marker='o')\n",
        "plt.title(\"Hiring Trends Over the Years\")\n",
        "plt.xlabel(\"Year\")\n",
        "plt.ylabel(\"Number of Employees Hired\")\n",
        "plt.grid(True)\n",
        "plt.show()\n"
      ]
    },
    {
      "cell_type": "code",
      "execution_count": null,
      "metadata": {
        "id": "z3AueVnA0NS5"
      },
      "outputs": [],
      "source": []
    }
  ],
  "metadata": {
    "kernelspec": {
      "display_name": "Python 3",
      "language": "python",
      "name": "python3"
    },
    "language_info": {
      "codemirror_mode": {
        "name": "ipython",
        "version": 3
      },
      "file_extension": ".py",
      "mimetype": "text/x-python",
      "name": "python",
      "nbconvert_exporter": "python",
      "pygments_lexer": "ipython3",
      "version": "3.7.1"
    },
    "colab": {
      "provenance": []
    }
  },
  "nbformat": 4,
  "nbformat_minor": 0
}